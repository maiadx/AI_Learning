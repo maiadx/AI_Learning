{
 "cells": [
  {
   "cell_type": "code",
   "execution_count": 2,
   "metadata": {},
   "outputs": [],
   "source": [
    "# follwed from Andrej Karpathy Video \"Let's build GPT\""
   ]
  },
  {
   "cell_type": "code",
   "execution_count": 3,
   "metadata": {},
   "outputs": [],
   "source": [
    "with open('data/text.txt', encoding='utf-8') as fp:\n",
    "    text = fp.read()"
   ]
  },
  {
   "cell_type": "code",
   "execution_count": 4,
   "metadata": {},
   "outputs": [
    {
     "name": "stdout",
     "output_type": "stream",
     "text": [
      "length of dataset in characters: 1115393\n",
      "\n",
      "\"First Citizen:\n",
      "Before we proceed any further, hear me speak.\" \n"
     ]
    }
   ],
   "source": [
    "print(f\"length of dataset in characters: {len(text)}\\n\")\n",
    "print(f\"\\\"{text[:60]}\\\" \")"
   ]
  },
  {
   "cell_type": "code",
   "execution_count": 5,
   "metadata": {},
   "outputs": [
    {
     "name": "stdout",
     "output_type": "stream",
     "text": [
      "vocabulary: \n",
      " !$&',-.3:;?ABCDEFGHIJKLMNOPQRSTUVWXYZabcdefghijklmnopqrstuvwxyz\n",
      "vocab size: 65\n"
     ]
    }
   ],
   "source": [
    "vocab = sorted(list(set(text)))\n",
    "vocab_size = len(vocab)\n",
    "print(f\"vocabulary: {''.join(vocab)}\")\n",
    "print(f\"vocab size: {vocab_size}\")"
   ]
  },
  {
   "cell_type": "markdown",
   "metadata": {},
   "source": [
    "Simple Tokenization"
   ]
  },
  {
   "cell_type": "code",
   "execution_count": 6,
   "metadata": {},
   "outputs": [
    {
     "name": "stdout",
     "output_type": "stream",
     "text": [
      "Encoded: [46, 47, 47, 1, 58, 46, 43, 56, 43]\n",
      "Decoded: hii there\n"
     ]
    }
   ],
   "source": [
    "# strategy to tokensize text -> model is character-level,\n",
    "#  so we need to translate characters into integers.\n",
    "\n",
    "# encode - string to integers (list)\n",
    "def encode(input_string):\n",
    "    # Define the vocabulary    \n",
    "    # Create a dictionary to map each character to an integer\n",
    "    char_to_index = {char: idx for idx, char in enumerate(vocab)}\n",
    "    \n",
    "    # Convert input string to an array of integers based on the character mapping\n",
    "    encoded_array = list(map(lambda char: char_to_index[char], input_string))    \n",
    "    return encoded_array\n",
    "\n",
    "\n",
    "def decode(encoded_data):\n",
    "    \n",
    "    # mapping for integers back into string:\n",
    "    index_to_char = {idx: char for idx, char in enumerate(vocab)}\n",
    "\n",
    "    # convert the array of integers back to a string based on the reverse mapping:\n",
    "    decoded_string = ''.join(map(lambda idx: index_to_char.get(idx, ''), encoded_data))\n",
    "    return decoded_string\n",
    "\n",
    "# Example usage of encode and decode\n",
    "input_str = \"hii there\"\n",
    "encoded_output = encode(input_str)\n",
    "print(\"Encoded:\", encoded_output)\n",
    "\n",
    "decoded_output = decode(encoded_output)\n",
    "print(\"Decoded:\", decoded_output)"
   ]
  },
  {
   "cell_type": "code",
   "execution_count": 12,
   "metadata": {},
   "outputs": [
    {
     "name": "stdout",
     "output_type": "stream",
     "text": [
      "torch.Size([1115393]) torch.int64\n"
     ]
    }
   ],
   "source": [
    "# Time to encode dataset\n",
    "import torch\n",
    "data = torch.tensor(encode(text), dtype=torch.long)\n",
    "\n",
    "print(data.shape, data.dtype)\n",
    "#print(data[:1000])"
   ]
  },
  {
   "cell_type": "markdown",
   "metadata": {},
   "source": [
    "Train / Test split"
   ]
  },
  {
   "cell_type": "code",
   "execution_count": 11,
   "metadata": {},
   "outputs": [],
   "source": [
    "n = int(0.9 * len(data))\n",
    "train_data = data[:n]\n",
    "val_data = data[n:]"
   ]
  },
  {
   "cell_type": "markdown",
   "metadata": {},
   "source": [
    "Training"
   ]
  },
  {
   "cell_type": "code",
   "execution_count": 14,
   "metadata": {},
   "outputs": [
    {
     "name": "stdout",
     "output_type": "stream",
     "text": [
      "when input is tensor([18]) the target: 47\n",
      "when input is tensor([18, 47]) the target: 56\n",
      "when input is tensor([18, 47, 56]) the target: 57\n",
      "when input is tensor([18, 47, 56, 57]) the target: 58\n",
      "when input is tensor([18, 47, 56, 57, 58]) the target: 1\n",
      "when input is tensor([18, 47, 56, 57, 58,  1]) the target: 15\n",
      "when input is tensor([18, 47, 56, 57, 58,  1, 15]) the target: 47\n",
      "when input is tensor([18, 47, 56, 57, 58,  1, 15, 47]) the target: 58\n"
     ]
    }
   ],
   "source": [
    "# block : random sampled 'chunks' of dataset\n",
    "block_size = 8\n",
    "train_data[:block_size+1]\n",
    "# +1 because for a chunk of size 8, need to see what comes next?\n",
    "\n",
    "x = train_data[:block_size]\n",
    "y = train_data[1:block_size+1]\n",
    "\n",
    "# y are the targets for each position in the input\n",
    "\n",
    "for t in range(block_size):\n",
    "    context = x[:t+1]\n",
    "    target = y[t]\n",
    "    print(f\"when input is {context} the target: {target}\")\n",
    "\n",
    "# we train on full range of context from 1 to block_size, because\n",
    "# this makes transformer 'used to' seeing contexts in that range since it\n",
    "# improves sampling during inference generality\n",
    "\n",
    "# after block size we need ot truncate, since transformer can never recieve more than block_size inputs.\n"
   ]
  },
  {
   "cell_type": "markdown",
   "metadata": {},
   "source": [
    "Batching"
   ]
  },
  {
   "cell_type": "code",
   "execution_count": 20,
   "metadata": {},
   "outputs": [
    {
     "name": "stdout",
     "output_type": "stream",
     "text": [
      "inputs: torch.Size([4, 8]), \n",
      "tensor([[56, 39, 58, 43,  1, 51, 39, 52],\n",
      "        [57, 50, 47, 54,  1, 39, 58,  1],\n",
      "        [53, 52, 58, 39, 45, 59, 43,  6],\n",
      "        [ 1, 14, 43, 56, 49, 43, 50, 43]])\n",
      "\n",
      "targets: torch.Size([4, 8])\n",
      "tensor([[39, 58, 43,  1, 51, 39, 52, 11],\n",
      "        [50, 47, 54,  1, 39, 58,  1, 61],\n",
      "        [52, 58, 39, 45, 59, 43,  6,  0],\n",
      "        [14, 43, 56, 49, 43, 50, 43, 63]])\n",
      "------\n",
      "when input is [56] the target is: 39\n",
      "when input is [56, 39] the target is: 58\n",
      "when input is [56, 39, 58] the target is: 43\n",
      "when input is [56, 39, 58, 43] the target is: 1\n",
      "when input is [56, 39, 58, 43, 1] the target is: 51\n",
      "when input is [56, 39, 58, 43, 1, 51] the target is: 39\n",
      "when input is [56, 39, 58, 43, 1, 51, 39] the target is: 52\n",
      "when input is [56, 39, 58, 43, 1, 51, 39, 52] the target is: 11\n",
      "when input is [57] the target is: 50\n",
      "when input is [57, 50] the target is: 47\n",
      "when input is [57, 50, 47] the target is: 54\n",
      "when input is [57, 50, 47, 54] the target is: 1\n",
      "when input is [57, 50, 47, 54, 1] the target is: 39\n",
      "when input is [57, 50, 47, 54, 1, 39] the target is: 58\n",
      "when input is [57, 50, 47, 54, 1, 39, 58] the target is: 1\n",
      "when input is [57, 50, 47, 54, 1, 39, 58, 1] the target is: 61\n",
      "when input is [53] the target is: 52\n",
      "when input is [53, 52] the target is: 58\n",
      "when input is [53, 52, 58] the target is: 39\n",
      "when input is [53, 52, 58, 39] the target is: 45\n",
      "when input is [53, 52, 58, 39, 45] the target is: 59\n",
      "when input is [53, 52, 58, 39, 45, 59] the target is: 43\n",
      "when input is [53, 52, 58, 39, 45, 59, 43] the target is: 6\n",
      "when input is [53, 52, 58, 39, 45, 59, 43, 6] the target is: 0\n",
      "when input is [1] the target is: 14\n",
      "when input is [1, 14] the target is: 43\n",
      "when input is [1, 14, 43] the target is: 56\n",
      "when input is [1, 14, 43, 56] the target is: 49\n",
      "when input is [1, 14, 43, 56, 49] the target is: 43\n",
      "when input is [1, 14, 43, 56, 49, 43] the target is: 50\n",
      "when input is [1, 14, 43, 56, 49, 43, 50] the target is: 43\n",
      "when input is [1, 14, 43, 56, 49, 43, 50, 43] the target is: 63\n"
     ]
    }
   ],
   "source": [
    "# batch dimension: we train on multiple different chunks of text,\n",
    "# each with size block_size, to leverage gpu acceleration\n",
    "\n",
    "torch.manual_seed(\"2073\")\n",
    "batch_size = 4\n",
    "block_size = 8\n",
    "def get_batch(split):\n",
    "    # gen a small batch of data of inputs x and targets y\n",
    "    data = train_data if split == 'train' else val_data\n",
    "    ix = torch.randint(len(data) - block_size, (batch_size,))\n",
    "\n",
    "    x = torch.stack([data[i:i+block_size] for i in ix])\n",
    "    y = torch.stack([data[i+1:i+block_size+1] for i in ix])\n",
    "    \n",
    "    return x, y\n",
    "\n",
    "xb, yb = get_batch('train')\n",
    "\n",
    "print(f\"inputs: {xb.shape}, \\n{xb}\\n\\ntargets: {yb.shape}\\n{yb}\")\n",
    "\n",
    "print('------')\n",
    "\n",
    "for b in range(batch_size):\n",
    "    for t in range(block_size):\n",
    "        context = xb[b, :t+1]\n",
    "        target = yb[b,t]\n",
    "        print(f\"when input is {context.tolist()} the target is: {target}\")"
   ]
  },
  {
   "cell_type": "code",
   "execution_count": 21,
   "metadata": {},
   "outputs": [
    {
     "name": "stdout",
     "output_type": "stream",
     "text": [
      "tensor([[56, 39, 58, 43,  1, 51, 39, 52],\n",
      "        [57, 50, 47, 54,  1, 39, 58,  1],\n",
      "        [53, 52, 58, 39, 45, 59, 43,  6],\n",
      "        [ 1, 14, 43, 56, 49, 43, 50, 43]])\n"
     ]
    }
   ],
   "source": [
    "print(xb)"
   ]
  },
  {
   "cell_type": "markdown",
   "metadata": {},
   "source": [
    "Building our Neural Network"
   ]
  },
  {
   "cell_type": "code",
   "execution_count": 26,
   "metadata": {},
   "outputs": [
    {
     "data": {
      "text/plain": [
       "<torch._C.Generator at 0x7dd0c010a310>"
      ]
     },
     "execution_count": 26,
     "metadata": {},
     "output_type": "execute_result"
    }
   ],
   "source": [
    "# bigram language model is the simplest model for nlp.\n",
    "import torch.nn as nn\n",
    "from torch.nn import functional as Func\n",
    "torch.manual_seed(2073)"
   ]
  },
  {
   "cell_type": "code",
   "execution_count": 33,
   "metadata": {},
   "outputs": [
    {
     "name": "stdout",
     "output_type": "stream",
     "text": [
      "torch.Size([32, 65])\n",
      "tensor(4.7149, grad_fn=<NllLossBackward0>)\n"
     ]
    }
   ],
   "source": [
    "# bigram language model is the simplest model for nlp.\n",
    "# bigram predicts next word solely based on the preceeding word. (n-gram where n = 2)\n",
    "# P(W)=P(w1​)⋅P(w2​∣w1​)⋅P(w3​∣w2​)⋅…⋅P(wn​∣wn−1​)\n",
    "\n",
    "class BigramLanguageModel(nn.Module):\n",
    "\n",
    "    def __init__(self, vocab_size):\n",
    "        super().__init__()\n",
    "        # each token directly reads off the logits of the next token from a lookup table\n",
    "        self.token_embedding_table = nn.Embedding(vocab_size, vocab_size)\n",
    "\n",
    "    def forward(self, idx, targets):\n",
    "            # idx and targets are both (B,T) tensor of integers\n",
    "            logits = self.token_embedding_table(idx) # (B,T,C)\n",
    "            # B, T, C: batch, time, channel\n",
    "\n",
    "            # loss fn:\n",
    "            # measures quality of logits w.r.t. the targets \n",
    "            # we have identity of next char, how well are we predicting next char based on logits?\n",
    "            \n",
    "            #pytorch expects different format for cross_entropy (B,C,T)\n",
    "            # we need to reshape logits:\n",
    "            B, T, C = logits.shape\n",
    "\n",
    "            logits = logits.view(B*T, C)\n",
    "            targets = targets.view(B*T)\n",
    "            \n",
    "            loss = Func.cross_entropy(logits, targets)\n",
    "\n",
    "\n",
    "\n",
    "            return logits, loss\n",
    "\n",
    "\n",
    "    def generate(self, idx, max_new_tokens):\n",
    "        # idx is (B,T) array of indices in the current context\n",
    "\n",
    "        for _ in range(max_new_tokens):\n",
    "            # get predictions\n",
    "            logits, loss = self(idx)\n",
    "\n",
    "             # focus only on the last time step:\n",
    "            logits = logits[:, -1, :] # becomes (B, C)\n",
    "\n",
    "            # apply softmas to get probabilities:\n",
    "            probs = Func.softmax(logits, dim=-1) # (B, C)\n",
    "\n",
    "            # sample from distribution\n",
    "            idx_next = torch.multinomial(probs, num_samples=1) # (B, 1)\n",
    "            \n",
    "\n",
    "\n",
    "\n",
    "\n",
    "model = BigramLanguageModel(vocab_size)\n",
    "logits, loss = model(xb, yb)\n",
    "print(logits.shape)\n",
    "print(loss)\n",
    "\n",
    "# expecting loss to be (-1) * ln(1/65) = ~ 4.17"
   ]
  }
 ],
 "metadata": {
  "kernelspec": {
   "display_name": "Python 3",
   "language": "python",
   "name": "python3"
  },
  "language_info": {
   "codemirror_mode": {
    "name": "ipython",
    "version": 3
   },
   "file_extension": ".py",
   "mimetype": "text/x-python",
   "name": "python",
   "nbconvert_exporter": "python",
   "pygments_lexer": "ipython3",
   "version": "3.11.8"
  }
 },
 "nbformat": 4,
 "nbformat_minor": 2
}
